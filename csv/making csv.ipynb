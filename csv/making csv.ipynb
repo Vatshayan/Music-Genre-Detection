{
 "cells": [
  {
   "cell_type": "code",
   "execution_count": 1,
   "metadata": {},
   "outputs": [],
   "source": [
    "import librosa as lr\n",
    "import numpy as np\n",
    "from glob import glob\n",
    "import csv\n",
    "import os"
   ]
  },
  {
   "cell_type": "code",
   "execution_count": 2,
   "metadata": {},
   "outputs": [
    {
     "data": {
      "text/plain": [
       "1000"
      ]
     },
     "execution_count": 2,
     "metadata": {},
     "output_type": "execute_result"
    }
   ],
   "source": [
    "data_dir='/home/vivek/Genre_Detection/genres'\n",
    "#getting path of all the files with .au extension in a list\n",
    "audio_files=glob(data_dir+'/blues'+'/*.au')\n",
    "list3=['/classical','/country','/disco','/hiphop','/jazz','/metal','/pop','/reggae','/rock']\n",
    "for element in list3 :\n",
    "    to_extend=glob(data_dir+element+'/*.au')\n",
    "    audio_files.extend(to_extend)\n",
    "    \n",
    "len(audio_files)"
   ]
  },
  {
   "cell_type": "markdown",
   "metadata": {},
   "source": [
    "                     FEATURES EXTRACTION\n",
    "                            \n",
    "1.Zero Crossing Rate\n",
    "The zero crossing rate is the rate of sign-changes along a signal, i.e., the rate at which the signal changes from\n",
    "positive to negative or back.\n",
    "Librosa provides a numpy array on calling zero crossing rate feature,we consider its mean as our feature to recognize\n",
    "the genre\n",
    "\n",
    "2.special centroid\n",
    "It indicates where the ”centre of mass” for a sound is located and is calculated as the weighted mean of the frequencies present in the sound.\n",
    "\n",
    "3.Spectral Rolloff\n",
    "It is a measure of the shape of the signal. It represents the frequency below which a specified percentage of the total spectral energy, e.g. 85%, lies.\n",
    "\n",
    "4.Chroma features\n",
    "Chroma features are an interesting and powerful representation for music audio in which the entire spectrum is projected onto 12 bins representing the 12 distinct semitones (or chroma) of the musical octave.\n",
    "\n",
    "5.\"Mel frequency cepstral coefficients\" (MFCCs)\n",
    "The Mel frequency cepstral coefficients (MFCCs) of a signal are a small set of features (usually about 10–20) which concisely describe the overall shape of a spectral envelope\n",
    "we take a total of 20 features out of mfcc"
   ]
  },
  {
   "cell_type": "code",
   "execution_count": 3,
   "metadata": {},
   "outputs": [
    {
     "name": "stdout",
     "output_type": "stream",
     "text": [
      "zero crossing rate of the file is 0.06402488761600927\n",
      "spectral_centroid of the file is 1719.3689480431453\n",
      "spectral_rolloff of the file is 3745.236878715922\n",
      "chromagram of the file is 0.4088792475315122\n",
      "mfcc- 1 of the file is -121.36393978375388\n",
      "mfcc- 2 of the file is 122.50668277611376\n",
      "mfcc- 3 of the file is -14.738196486513928\n",
      "mfcc- 4 of the file is 46.13106758243983\n",
      "mfcc- 5 of the file is -8.181879740271722\n",
      "mfcc- 6 of the file is 20.182963511589787\n",
      "mfcc- 7 of the file is -19.173378988374445\n",
      "mfcc- 8 of the file is 23.03913980624283\n",
      "mfcc- 9 of the file is -11.838224375787476\n",
      "mfcc- 10 of the file is 21.15999922750906\n",
      "mfcc- 11 of the file is -6.718366172387851\n",
      "mfcc- 12 of the file is 6.99254229555463\n",
      "mfcc- 13 of the file is -12.730597884510779\n",
      "mfcc- 14 of the file is 5.061325371908128\n",
      "mfcc- 15 of the file is -5.183214745325095\n",
      "mfcc- 16 of the file is -1.4525600176884235\n",
      "mfcc- 17 of the file is -7.041825170461076\n",
      "mfcc- 18 of the file is 2.6952478619457327\n",
      "mfcc- 19 of the file is 3.4123054719551718\n",
      "mfcc- 20 of the file is -2.7156923750753332\n"
     ]
    }
   ],
   "source": [
    "#sample feature extraction of 1 audio file\n",
    "#loading the audio\n",
    "x, sr = lr.load(audio_files[0])\n",
    "\n",
    "zero_crossings_rate= lr.feature.zero_crossing_rate(x)\n",
    "print(\"zero crossing rate of the file is\",np.mean(zero_crossings_rate))\n",
    "\n",
    "spectral_centroids = lr.feature.spectral_centroid(x, sr)\n",
    "print(\"spectral_centroid of the file is\",np.mean(spectral_centroids))\n",
    "\n",
    "spectral_rolloff = lr.feature.spectral_rolloff(x+0.01, sr=sr)\n",
    "print(\"spectral_rolloff of the file is\",np.mean(spectral_rolloff))\n",
    "\n",
    "hop_length = 512\n",
    "chromagram = lr.feature.chroma_stft(x, sr=sr, hop_length=hop_length)\n",
    "print(\"chromagram of the file is\",np.mean(chromagram))\n",
    "\n",
    "mfcc = lr.feature.mfcc(x, sr=sr)\n",
    "i=1\n",
    "for e in mfcc :\n",
    "    print(\"mfcc-\",i,\"of the file is\",np.mean(e))\n",
    "    i=i+1\n"
   ]
  },
  {
   "cell_type": "code",
   "execution_count": 4,
   "metadata": {},
   "outputs": [],
   "source": [
    "#making a csv file\n",
    "with open('genere_features.csv','w',newline =\"\") as file :\n",
    "    TheWriter=csv.writer(file)\n",
    "    l=[\"file name\",\"zero_crossings_rate\",\"spectral_centroid\",\"Spectral Rolloff\",\"Chroma features\"]\n",
    "    i=\"a\"\n",
    "    for e in mfcc :\n",
    "        x=\"mfcc\"+\"_\"+i\n",
    "        l.append(x)\n",
    "        i=chr(ord(i)+1)\n",
    "    x=\"genre\"\n",
    "    l.append(x)\n",
    "    TheWriter.writerow(l)\n",
    "    i=1\n",
    "    for audio in audio_files :\n",
    "        x, sr = librosa.load(audio,mono=True,duration=30)\n",
    "        zero_crossings_rate=librosa.feature.zero_crossing_rate(x)\n",
    "        spectral_centroids = lr.feature.spectral_centroid(x, sr)\n",
    "        spectral_rolloff = librosa.feature.spectral_rolloff(x+0.01, sr=sr)\n",
    "        hop_length = 512\n",
    "        chromagram = librosa.feature.chroma_stft(x, sr=sr, hop_length=hop_length)\n",
    "        mfcc = librosa.feature.mfcc(x, sr=sr)\n",
    "        list1=[audio,np.mean(zero_crossings_rate),np.mean(spectral_centroids),np.mean(spectral_rolloff),np.mean(chromagram)]\n",
    "        to_extd=[]\n",
    "        for e in mfcc :\n",
    "            to_extd.append(np.mean(e))\n",
    "        list1.extend(to_extd)\n",
    "        if i>0 and i<101 :\n",
    "            x=\"blues\"\n",
    "            list1.append(x)\n",
    "        elif i>100 and i<201 :\n",
    "            x=\"classical\"\n",
    "            list1.append(x)\n",
    "        elif i>200 and i<301 :\n",
    "            x=\"country\"\n",
    "            list1.append(x)\n",
    "        elif i>300 and i<401 :\n",
    "            x=\"disco\"\n",
    "            list1.append(x)\n",
    "        elif i>400 and i<501 :\n",
    "            x=\"hiphop\"\n",
    "            list1.append(x)\n",
    "        elif i>500 and i<601 :\n",
    "            x=\"jazz\"\n",
    "            list1.append(x)\n",
    "        elif i>600 and i<701 :\n",
    "            x=\"metal\"\n",
    "            list1.append(x)\n",
    "        elif i>700 and i<801 :\n",
    "            x=\"pop\"\n",
    "            list1.append(x)\n",
    "        elif i>800 and i<901 :\n",
    "            x=\"reggae\"\n",
    "            list1.append(x)\n",
    "        else :\n",
    "            x=\"rock\"\n",
    "            list1.append(x)\n",
    "\n",
    "        i=i+1\n",
    "        TheWriter.writerow(list1)"
   ]
  },
  {
   "cell_type": "code",
   "execution_count": null,
   "metadata": {},
   "outputs": [],
   "source": []
  }
 ],
 "metadata": {
  "kernelspec": {
   "display_name": "Python 3",
   "language": "python",
   "name": "python3"
  },
  "language_info": {
   "codemirror_mode": {
    "name": "ipython",
    "version": 3
   },
   "file_extension": ".py",
   "mimetype": "text/x-python",
   "name": "python",
   "nbconvert_exporter": "python",
   "pygments_lexer": "ipython3",
   "version": "3.7.1"
  }
 },
 "nbformat": 4,
 "nbformat_minor": 2
}
